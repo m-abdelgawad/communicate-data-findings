{
 "cells": [
  {
   "cell_type": "markdown",
   "metadata": {
    "slideshow": {
     "slide_type": "slide"
    }
   },
   "source": [
    "# Programme for International Student Assessment\n",
    "## by Mohamed AbdelGawad Ibrahim\n",
    "\n",
    "## Preliminary Wrangling\n",
    "\n",
    "> PISA is a survey of students' skills and knowledge as they\n",
    "approach the end of compulsory education. It is not a\n",
    "conventional school test. Rather than examining how well\n",
    "students have learned the school curriculum, it looks at how\n",
    "well prepared they are for life beyond school.\n",
    "Around 510,000 students in 65 economies took part in the\n",
    "PISA 2012 assessment of reading, mathematics and science\n",
    "representing about 28 million 15-year-olds globally. Of those\n",
    "economies, 44 took part in an assessment of creative problem\n",
    "solving and 18 in an assessment of financial literacy.\n",
    "\n",
    "> For simplicity, I extracted 8 columns that I am interested in, out of the original dataset, then saved this subset to local csv file."
   ]
  },
  {
   "cell_type": "code",
   "execution_count": 1,
   "metadata": {
    "collapsed": true,
    "slideshow": {
     "slide_type": "skip"
    }
   },
   "outputs": [],
   "source": [
    "# import all packages and set plots to be embedded inline\n",
    "import numpy as np\n",
    "import pandas as pd\n",
    "import matplotlib.pyplot as plt\n",
    "import seaborn as sb\n",
    "\n",
    "%matplotlib inline"
   ]
  },
  {
   "cell_type": "markdown",
   "metadata": {
    "slideshow": {
     "slide_type": "slide"
    }
   },
   "source": [
    "> Load in your dataset and describe its properties through the questions below.\n",
    "Try and motivate your exploration goals through this section."
   ]
  },
  {
   "cell_type": "code",
   "execution_count": 2,
   "metadata": {
    "slideshow": {
     "slide_type": "skip"
    }
   },
   "outputs": [
    {
     "data": {
      "text/html": [
       "<div>\n",
       "<style>\n",
       "    .dataframe thead tr:only-child th {\n",
       "        text-align: right;\n",
       "    }\n",
       "\n",
       "    .dataframe thead th {\n",
       "        text-align: left;\n",
       "    }\n",
       "\n",
       "    .dataframe tbody tr th {\n",
       "        vertical-align: top;\n",
       "    }\n",
       "</style>\n",
       "<table border=\"1\" class=\"dataframe\">\n",
       "  <thead>\n",
       "    <tr style=\"text-align: right;\">\n",
       "      <th></th>\n",
       "      <th>gender</th>\n",
       "      <th>mom_job</th>\n",
       "      <th>dad_job</th>\n",
       "      <th>books_count</th>\n",
       "      <th>enjoy_math</th>\n",
       "      <th>prnts_math</th>\n",
       "      <th>talk_math</th>\n",
       "      <th>stdy_hrs</th>\n",
       "    </tr>\n",
       "  </thead>\n",
       "  <tbody>\n",
       "    <tr>\n",
       "      <th>0</th>\n",
       "      <td>Female</td>\n",
       "      <td>Working full-time &lt;for pay&gt;</td>\n",
       "      <td>Working full-time &lt;for pay&gt;</td>\n",
       "      <td>201-500 books</td>\n",
       "      <td>Disagree</td>\n",
       "      <td>Agree</td>\n",
       "      <td>Sometimes</td>\n",
       "      <td>8.0</td>\n",
       "    </tr>\n",
       "    <tr>\n",
       "      <th>1</th>\n",
       "      <td>Female</td>\n",
       "      <td>Working full-time &lt;for pay&gt;</td>\n",
       "      <td>Working full-time &lt;for pay&gt;</td>\n",
       "      <td>More than 500 books</td>\n",
       "      <td>Agree</td>\n",
       "      <td>Agree</td>\n",
       "      <td>Sometimes</td>\n",
       "      <td>24.0</td>\n",
       "    </tr>\n",
       "    <tr>\n",
       "      <th>2</th>\n",
       "      <td>Female</td>\n",
       "      <td>Working full-time &lt;for pay&gt;</td>\n",
       "      <td>Working full-time &lt;for pay&gt;</td>\n",
       "      <td>0-10 books</td>\n",
       "      <td>Agree</td>\n",
       "      <td>Agree</td>\n",
       "      <td>Sometimes</td>\n",
       "      <td>18.0</td>\n",
       "    </tr>\n",
       "    <tr>\n",
       "      <th>3</th>\n",
       "      <td>Female</td>\n",
       "      <td>Other (e.g. home duties, retired)</td>\n",
       "      <td>Working full-time &lt;for pay&gt;</td>\n",
       "      <td>0-10 books</td>\n",
       "      <td>Strongly disagree</td>\n",
       "      <td>Strongly agree</td>\n",
       "      <td>Sometimes</td>\n",
       "      <td>29.0</td>\n",
       "    </tr>\n",
       "    <tr>\n",
       "      <th>4</th>\n",
       "      <td>Female</td>\n",
       "      <td>Other (e.g. home duties, retired)</td>\n",
       "      <td>Working full-time &lt;for pay&gt;</td>\n",
       "      <td>0-10 books</td>\n",
       "      <td>Agree</td>\n",
       "      <td>Agree</td>\n",
       "      <td>Sometimes</td>\n",
       "      <td>7.0</td>\n",
       "    </tr>\n",
       "    <tr>\n",
       "      <th>5</th>\n",
       "      <td>Female</td>\n",
       "      <td>Other (e.g. home duties, retired)</td>\n",
       "      <td>Working full-time &lt;for pay&gt;</td>\n",
       "      <td>26-100 books</td>\n",
       "      <td>Agree</td>\n",
       "      <td>Agree</td>\n",
       "      <td>Often</td>\n",
       "      <td>36.0</td>\n",
       "    </tr>\n",
       "    <tr>\n",
       "      <th>6</th>\n",
       "      <td>Female</td>\n",
       "      <td>Not working, but looking for a job</td>\n",
       "      <td>Working full-time &lt;for pay&gt;</td>\n",
       "      <td>11-25 books</td>\n",
       "      <td>Agree</td>\n",
       "      <td>Strongly agree</td>\n",
       "      <td>Sometimes</td>\n",
       "      <td>10.0</td>\n",
       "    </tr>\n",
       "    <tr>\n",
       "      <th>7</th>\n",
       "      <td>Male</td>\n",
       "      <td>Other (e.g. home duties, retired)</td>\n",
       "      <td>Working full-time &lt;for pay&gt;</td>\n",
       "      <td>201-500 books</td>\n",
       "      <td>Agree</td>\n",
       "      <td>Strongly agree</td>\n",
       "      <td>Often</td>\n",
       "      <td>25.0</td>\n",
       "    </tr>\n",
       "    <tr>\n",
       "      <th>8</th>\n",
       "      <td>Female</td>\n",
       "      <td>Other (e.g. home duties, retired)</td>\n",
       "      <td>Working part-time &lt;for pay&gt;</td>\n",
       "      <td>26-100 books</td>\n",
       "      <td>Strongly agree</td>\n",
       "      <td>Agree</td>\n",
       "      <td>Often</td>\n",
       "      <td>23.0</td>\n",
       "    </tr>\n",
       "    <tr>\n",
       "      <th>9</th>\n",
       "      <td>Male</td>\n",
       "      <td>Working full-time &lt;for pay&gt;</td>\n",
       "      <td>Working full-time &lt;for pay&gt;</td>\n",
       "      <td>11-25 books</td>\n",
       "      <td>Agree</td>\n",
       "      <td>Strongly agree</td>\n",
       "      <td>Sometimes</td>\n",
       "      <td>19.0</td>\n",
       "    </tr>\n",
       "  </tbody>\n",
       "</table>\n",
       "</div>"
      ],
      "text/plain": [
       "   gender                              mom_job                       dad_job  \\\n",
       "0  Female         Working full-time <for pay>   Working full-time <for pay>    \n",
       "1  Female         Working full-time <for pay>   Working full-time <for pay>    \n",
       "2  Female         Working full-time <for pay>   Working full-time <for pay>    \n",
       "3  Female   Other (e.g. home duties, retired)   Working full-time <for pay>    \n",
       "4  Female   Other (e.g. home duties, retired)   Working full-time <for pay>    \n",
       "5  Female   Other (e.g. home duties, retired)   Working full-time <for pay>    \n",
       "6  Female  Not working, but looking for a job   Working full-time <for pay>    \n",
       "7    Male   Other (e.g. home duties, retired)   Working full-time <for pay>    \n",
       "8  Female   Other (e.g. home duties, retired)    Working part-time <for pay>   \n",
       "9    Male         Working full-time <for pay>   Working full-time <for pay>    \n",
       "\n",
       "           books_count         enjoy_math      prnts_math  talk_math  stdy_hrs  \n",
       "0       201-500 books            Disagree           Agree  Sometimes       8.0  \n",
       "1  More than 500 books              Agree           Agree  Sometimes      24.0  \n",
       "2          0-10 books               Agree           Agree  Sometimes      18.0  \n",
       "3          0-10 books   Strongly disagree  Strongly agree  Sometimes      29.0  \n",
       "4          0-10 books               Agree           Agree  Sometimes       7.0  \n",
       "5        26-100 books               Agree           Agree      Often      36.0  \n",
       "6         11-25 books               Agree  Strongly agree  Sometimes      10.0  \n",
       "7       201-500 books               Agree  Strongly agree      Often      25.0  \n",
       "8        26-100 books      Strongly agree           Agree      Often      23.0  \n",
       "9         11-25 books               Agree  Strongly agree  Sometimes      19.0  "
      ]
     },
     "execution_count": 2,
     "metadata": {},
     "output_type": "execute_result"
    }
   ],
   "source": [
    "# df = pd.read_csv(\"pisa2012.csv\", usecols=['ST04Q01', 'ST15Q01', 'ST19Q01', 'ST28Q01', 'ST49Q01', 'ST35Q06', 'ST29Q04', 'OUTHOURS']).dropna()\n",
    "# df.rename(columns={\n",
    "#     'ST04Q01': 'gender', \n",
    "#     'ST15Q01': 'mom_job',\n",
    "#     'ST19Q01' : 'dad_job',\n",
    "#     'ST28Q01' : 'books_count',\n",
    "#     'ST49Q01' : 'talk_math',\n",
    "#     'OUTHOURS' : 'stdy_hrs',\n",
    "#     'ST35Q06' : 'prnts_math',\n",
    "#     'ST29Q04' : 'enjoy_math'\n",
    "# }, inplace=True)\n",
    "# df.to_csv(\"pisa2012_subset.csv\", encoding='utf-8', index=False)\n",
    "\n",
    "df = pd.read_csv(\"pisa2012_subset.csv\")\n",
    "cols_names = {\n",
    "        'mother_job_status': 'mom_job', \n",
    "        'father_job_status': 'dad_job',\n",
    "        'talk_maths_with_friends' : 'talk_math',\n",
    "        'out-study-hours' : 'stdy_hrs',\n",
    "        'parents_like_maths' : 'prnts_math',\n",
    "        'enjoy_maths' : 'enjoy_math'\n",
    "    }\n",
    "df.rename(columns = cols_names, inplace = True)\n",
    "df.head(10)"
   ]
  },
  {
   "cell_type": "markdown",
   "metadata": {},
   "source": [
    "## Cleaning The DataFrame:"
   ]
  },
  {
   "cell_type": "code",
   "execution_count": 3,
   "metadata": {},
   "outputs": [
    {
     "data": {
      "text/plain": [
       "array(['Working full-time <for pay> ',\n",
       "       'Other (e.g. home duties, retired) ',\n",
       "       'Not working, but looking for a job ', 'Working part-time <for pay>'], dtype=object)"
      ]
     },
     "execution_count": 3,
     "metadata": {},
     "output_type": "execute_result"
    }
   ],
   "source": [
    "# Print column values\n",
    "df.mom_job.unique()"
   ]
  },
  {
   "cell_type": "code",
   "execution_count": 4,
   "metadata": {},
   "outputs": [
    {
     "data": {
      "text/plain": [
       "array(['full_time', 'other', 'searching', 'part_time'], dtype=object)"
      ]
     },
     "execution_count": 4,
     "metadata": {},
     "output_type": "execute_result"
    }
   ],
   "source": [
    "# Remap column values to simpler values\n",
    "col_map = {\n",
    "    'Working full-time <for pay> ' : 'full_time',\n",
    "    'Other (e.g. home duties, retired) ' : 'other',\n",
    "    'Not working, but looking for a job ' : 'searching',\n",
    "    'Working part-time <for pay>' : 'part_time'\n",
    "}\n",
    "df['mom_job'] = df['mom_job'].map(col_map)\n",
    "df.mom_job.unique()"
   ]
  },
  {
   "cell_type": "code",
   "execution_count": 5,
   "metadata": {},
   "outputs": [
    {
     "data": {
      "text/plain": [
       "array(['Working full-time <for pay> ', 'Working part-time <for pay>',\n",
       "       'Other (e.g. home duties, retired) ',\n",
       "       'Not working, but looking for a job'], dtype=object)"
      ]
     },
     "execution_count": 5,
     "metadata": {},
     "output_type": "execute_result"
    }
   ],
   "source": [
    "# Print column values\n",
    "df.dad_job.unique()"
   ]
  },
  {
   "cell_type": "code",
   "execution_count": 6,
   "metadata": {},
   "outputs": [
    {
     "data": {
      "text/plain": [
       "array(['full_time', 'part_time', 'other', 'searching'], dtype=object)"
      ]
     },
     "execution_count": 6,
     "metadata": {},
     "output_type": "execute_result"
    }
   ],
   "source": [
    "# Remap column values to simpler values\n",
    "col_map = {\n",
    "    'Working full-time <for pay> ' : 'full_time',\n",
    "    'Other (e.g. home duties, retired) ' : 'other',\n",
    "    'Not working, but looking for a job' : 'searching',\n",
    "   'Working part-time <for pay>' : 'part_time'\n",
    "}\n",
    "df['dad_job'] = df['dad_job'].map(col_map)\n",
    "df.dad_job.unique()"
   ]
  },
  {
   "cell_type": "code",
   "execution_count": 7,
   "metadata": {},
   "outputs": [
    {
     "data": {
      "text/plain": [
       "array(['201-500 books ', 'More than 500 books', '0-10 books ',\n",
       "       '26-100 books ', '11-25 books ', '101-200 books '], dtype=object)"
      ]
     },
     "execution_count": 7,
     "metadata": {},
     "output_type": "execute_result"
    }
   ],
   "source": [
    "# Print column values\n",
    "df.books_count.unique()"
   ]
  },
  {
   "cell_type": "code",
   "execution_count": 8,
   "metadata": {},
   "outputs": [
    {
     "data": {
      "text/plain": [
       "array(['201-500', '500+', '0-10', '26-100', '11-25', '101-200'], dtype=object)"
      ]
     },
     "execution_count": 8,
     "metadata": {},
     "output_type": "execute_result"
    }
   ],
   "source": [
    "# Remap column values to simpler values\n",
    "col_map = {\n",
    "    '201-500 books ' : '201-500',\n",
    "    'More than 500 books' : '500+',\n",
    "    '0-10 books ' : '0-10',\n",
    "    '26-100 books ' : '26-100',\n",
    "    '11-25 books ' : '11-25',\n",
    "    '101-200 books ' : '101-200'\n",
    "}\n",
    "df['books_count'] = df['books_count'].map(col_map)\n",
    "df.books_count.unique()"
   ]
  },
  {
   "cell_type": "code",
   "execution_count": 9,
   "metadata": {},
   "outputs": [
    {
     "data": {
      "text/plain": [
       "array(['Sometimes', 'Often', 'Always or almost always', 'Never or rarely'], dtype=object)"
      ]
     },
     "execution_count": 9,
     "metadata": {},
     "output_type": "execute_result"
    }
   ],
   "source": [
    "# Print column values\n",
    "df.talk_math.unique()"
   ]
  },
  {
   "cell_type": "code",
   "execution_count": 10,
   "metadata": {},
   "outputs": [
    {
     "data": {
      "text/plain": [
       "array(['Sometimes', 'Often', 'Always', 'Never'], dtype=object)"
      ]
     },
     "execution_count": 10,
     "metadata": {},
     "output_type": "execute_result"
    }
   ],
   "source": [
    "# Remap column values to simpler values\n",
    "col_map = {\n",
    "    'Always or almost always' : 'Always',\n",
    "    'Never or rarely' : 'Never',\n",
    "    'Sometimes' : 'Sometimes',\n",
    "    'Often' : 'Often'\n",
    "}\n",
    "df['talk_math'] = df['talk_math'].map(col_map)\n",
    "df.talk_math.unique()"
   ]
  },
  {
   "cell_type": "code",
   "execution_count": 11,
   "metadata": {},
   "outputs": [
    {
     "data": {
      "text/html": [
       "<div>\n",
       "<style>\n",
       "    .dataframe thead tr:only-child th {\n",
       "        text-align: right;\n",
       "    }\n",
       "\n",
       "    .dataframe thead th {\n",
       "        text-align: left;\n",
       "    }\n",
       "\n",
       "    .dataframe tbody tr th {\n",
       "        vertical-align: top;\n",
       "    }\n",
       "</style>\n",
       "<table border=\"1\" class=\"dataframe\">\n",
       "  <thead>\n",
       "    <tr style=\"text-align: right;\">\n",
       "      <th></th>\n",
       "      <th>gender</th>\n",
       "      <th>mom_job</th>\n",
       "      <th>dad_job</th>\n",
       "      <th>books_count</th>\n",
       "      <th>enjoy_math</th>\n",
       "      <th>prnts_math</th>\n",
       "      <th>talk_math</th>\n",
       "      <th>stdy_hrs</th>\n",
       "    </tr>\n",
       "  </thead>\n",
       "  <tbody>\n",
       "    <tr>\n",
       "      <th>0</th>\n",
       "      <td>Female</td>\n",
       "      <td>full_time</td>\n",
       "      <td>full_time</td>\n",
       "      <td>201-500</td>\n",
       "      <td>Disagree</td>\n",
       "      <td>Agree</td>\n",
       "      <td>Sometimes</td>\n",
       "      <td>8.0</td>\n",
       "    </tr>\n",
       "    <tr>\n",
       "      <th>1</th>\n",
       "      <td>Female</td>\n",
       "      <td>full_time</td>\n",
       "      <td>full_time</td>\n",
       "      <td>500+</td>\n",
       "      <td>Agree</td>\n",
       "      <td>Agree</td>\n",
       "      <td>Sometimes</td>\n",
       "      <td>24.0</td>\n",
       "    </tr>\n",
       "    <tr>\n",
       "      <th>2</th>\n",
       "      <td>Female</td>\n",
       "      <td>full_time</td>\n",
       "      <td>full_time</td>\n",
       "      <td>0-10</td>\n",
       "      <td>Agree</td>\n",
       "      <td>Agree</td>\n",
       "      <td>Sometimes</td>\n",
       "      <td>18.0</td>\n",
       "    </tr>\n",
       "    <tr>\n",
       "      <th>3</th>\n",
       "      <td>Female</td>\n",
       "      <td>other</td>\n",
       "      <td>full_time</td>\n",
       "      <td>0-10</td>\n",
       "      <td>Strongly disagree</td>\n",
       "      <td>Strongly agree</td>\n",
       "      <td>Sometimes</td>\n",
       "      <td>29.0</td>\n",
       "    </tr>\n",
       "    <tr>\n",
       "      <th>4</th>\n",
       "      <td>Female</td>\n",
       "      <td>other</td>\n",
       "      <td>full_time</td>\n",
       "      <td>0-10</td>\n",
       "      <td>Agree</td>\n",
       "      <td>Agree</td>\n",
       "      <td>Sometimes</td>\n",
       "      <td>7.0</td>\n",
       "    </tr>\n",
       "    <tr>\n",
       "      <th>5</th>\n",
       "      <td>Female</td>\n",
       "      <td>other</td>\n",
       "      <td>full_time</td>\n",
       "      <td>26-100</td>\n",
       "      <td>Agree</td>\n",
       "      <td>Agree</td>\n",
       "      <td>Often</td>\n",
       "      <td>36.0</td>\n",
       "    </tr>\n",
       "    <tr>\n",
       "      <th>6</th>\n",
       "      <td>Female</td>\n",
       "      <td>searching</td>\n",
       "      <td>full_time</td>\n",
       "      <td>11-25</td>\n",
       "      <td>Agree</td>\n",
       "      <td>Strongly agree</td>\n",
       "      <td>Sometimes</td>\n",
       "      <td>10.0</td>\n",
       "    </tr>\n",
       "    <tr>\n",
       "      <th>7</th>\n",
       "      <td>Male</td>\n",
       "      <td>other</td>\n",
       "      <td>full_time</td>\n",
       "      <td>201-500</td>\n",
       "      <td>Agree</td>\n",
       "      <td>Strongly agree</td>\n",
       "      <td>Often</td>\n",
       "      <td>25.0</td>\n",
       "    </tr>\n",
       "    <tr>\n",
       "      <th>8</th>\n",
       "      <td>Female</td>\n",
       "      <td>other</td>\n",
       "      <td>part_time</td>\n",
       "      <td>26-100</td>\n",
       "      <td>Strongly agree</td>\n",
       "      <td>Agree</td>\n",
       "      <td>Often</td>\n",
       "      <td>23.0</td>\n",
       "    </tr>\n",
       "    <tr>\n",
       "      <th>9</th>\n",
       "      <td>Male</td>\n",
       "      <td>full_time</td>\n",
       "      <td>full_time</td>\n",
       "      <td>11-25</td>\n",
       "      <td>Agree</td>\n",
       "      <td>Strongly agree</td>\n",
       "      <td>Sometimes</td>\n",
       "      <td>19.0</td>\n",
       "    </tr>\n",
       "  </tbody>\n",
       "</table>\n",
       "</div>"
      ],
      "text/plain": [
       "   gender    mom_job    dad_job books_count         enjoy_math  \\\n",
       "0  Female  full_time  full_time     201-500           Disagree   \n",
       "1  Female  full_time  full_time        500+              Agree   \n",
       "2  Female  full_time  full_time        0-10              Agree   \n",
       "3  Female      other  full_time        0-10  Strongly disagree   \n",
       "4  Female      other  full_time        0-10              Agree   \n",
       "5  Female      other  full_time      26-100              Agree   \n",
       "6  Female  searching  full_time       11-25              Agree   \n",
       "7    Male      other  full_time     201-500              Agree   \n",
       "8  Female      other  part_time      26-100     Strongly agree   \n",
       "9    Male  full_time  full_time       11-25              Agree   \n",
       "\n",
       "       prnts_math  talk_math  stdy_hrs  \n",
       "0           Agree  Sometimes       8.0  \n",
       "1           Agree  Sometimes      24.0  \n",
       "2           Agree  Sometimes      18.0  \n",
       "3  Strongly agree  Sometimes      29.0  \n",
       "4           Agree  Sometimes       7.0  \n",
       "5           Agree      Often      36.0  \n",
       "6  Strongly agree  Sometimes      10.0  \n",
       "7  Strongly agree      Often      25.0  \n",
       "8           Agree      Often      23.0  \n",
       "9  Strongly agree  Sometimes      19.0  "
      ]
     },
     "execution_count": 11,
     "metadata": {},
     "output_type": "execute_result"
    }
   ],
   "source": [
    "df.head(10)"
   ]
  },
  {
   "cell_type": "code",
   "execution_count": 12,
   "metadata": {
    "slideshow": {
     "slide_type": "skip"
    }
   },
   "outputs": [
    {
     "name": "stdout",
     "output_type": "stream",
     "text": [
      "<class 'pandas.core.frame.DataFrame'>\n",
      "RangeIndex: 138030 entries, 0 to 138029\n",
      "Data columns (total 8 columns):\n",
      "gender         138030 non-null object\n",
      "mom_job        138030 non-null object\n",
      "dad_job        138030 non-null object\n",
      "books_count    138030 non-null object\n",
      "enjoy_math     138030 non-null object\n",
      "prnts_math     138030 non-null object\n",
      "talk_math      138030 non-null object\n",
      "stdy_hrs       138030 non-null float64\n",
      "dtypes: float64(1), object(7)\n",
      "memory usage: 8.4+ MB\n"
     ]
    }
   ],
   "source": [
    "df.info()"
   ]
  },
  {
   "cell_type": "markdown",
   "metadata": {
    "slideshow": {
     "slide_type": "slide"
    }
   },
   "source": [
    "### What is the structure of your dataset?\n",
    "\n",
    "> There are 138,030 entries in the dataset with 11 features as follows: \n",
    "> * gender\n",
    "> * mom_job : Mother Current Job Status\n",
    "> * dad_job : Father Current Job Status\n",
    "> * enjoy_math : Math Interest - Enjoy Maths\n",
    "> * prnts_math : Subjective Norms - Parents Like Mathematics\n",
    "> * books_count : How many books at home\n",
    "> * talk_math : Math Behaviour - Talk about Maths with Friends\n",
    "> * stdy_hrs : Out-of-School Study Time\n",
    "\n",
    "> Most variables are categorical in nature, but the variables stdy_hrs, wealth, and pv1math are numerical variables.\n",
    "\n",
    "\n",
    "### What is/are the main feature(s) of interest in your dataset?\n",
    "\n",
    "> Out-of-School Study Time\n",
    "\n",
    "### What features in the dataset do you think will help support your investigation into your feature(s) of interest?\n",
    "\n",
    "> * enjoy_math\n",
    "> * mom_job\n",
    "> * dad_job\n",
    "> * prnts_math"
   ]
  },
  {
   "cell_type": "markdown",
   "metadata": {
    "slideshow": {
     "slide_type": "slide"
    }
   },
   "source": [
    "## Univariate Exploration\n",
    "\n",
    "> In this section, investigate distributions of individual variables. If\n",
    "you see unusual points or outliers, take a deeper look to clean things up\n",
    "and prepare yourself to look at relationships between variables."
   ]
  },
  {
   "cell_type": "code",
   "execution_count": 13,
   "metadata": {
    "slideshow": {
     "slide_type": "subslide"
    }
   },
   "outputs": [
    {
     "data": {
      "image/png": "[encoded data removed]",
      "text/plain": [
       "<matplotlib.figure.Figure at 0x26ca3b1d4e0>"
      ]
     },
     "metadata": {},
     "output_type": "display_data"
    }
   ],
   "source": [
    "# How many males vs. females in the dataset\n",
    "sorted_gender = df.gender.value_counts()\n",
    "plt.pie(sorted_gender, labels = sorted_gender.index, startangle = 90, counterclock = False, autopct='%1.0f%%', pctdistance=0.6, labeldistance=1.1);\n",
    "# We have the used option `Square`.\n",
    "plt.title(\"Students Gender\");\n",
    "plt.axis('square');"
   ]
  },
  {
   "cell_type": "markdown",
   "metadata": {
    "slideshow": {
     "slide_type": "slide"
    }
   },
   "source": [
    "> We've slightly more females than males in our dataset."
   ]
  },
  {
   "cell_type": "code",
   "execution_count": 15,
   "metadata": {
    "slideshow": {
     "slide_type": "slide"
    }
   },
   "outputs": [
    {
     "data": {
      "text/plain": [
       "array(['full_time', 'other', 'searching', 'part_time'], dtype=object)"
      ]
     },
     "execution_count": 15,
     "metadata": {},
     "output_type": "execute_result"
    }
   ],
   "source": [
    "df.mom_job.unique()"
   ]
  },
  {
   "cell_type": "code",
   "execution_count": 16,
   "metadata": {
    "slideshow": {
     "slide_type": "subslide"
    }
   },
   "outputs": [
    {
     "data": {
      "image/png": "[encoded data removed]",
      "text/plain": [
       "<matplotlib.figure.Figure at 0x26ca32766d8>"
      ]
     },
     "metadata": {},
     "output_type": "display_data"
    }
   ],
   "source": [
    "# Mother Current Job Status\n",
    "base_color = sb.color_palette()[0]\n",
    "working_order = [\n",
    "    'full_time',\n",
    "    'part_time',\n",
    "    'searching',\n",
    "    'other'\n",
    "]\n",
    "sb.countplot(data = df, y = 'mom_job', color = base_color, order = mothers_working_order);\n",
    "plt.title(\"Mothers Current Job Status\");"
   ]
  },
  {
   "cell_type": "markdown",
   "metadata": {
    "slideshow": {
     "slide_type": "slide"
    }
   },
   "source": [
    "> We can see that the majority of mothers are working full-time, and many mothers aren't working neither looking for a job."
   ]
  },
  {
   "cell_type": "code",
   "execution_count": 17,
   "metadata": {
    "slideshow": {
     "slide_type": "subslide"
    }
   },
   "outputs": [
    {
     "data": {
      "image/png": "[encoded data removed]",
      "text/plain": [
       "<matplotlib.figure.Figure at 0x26ca3e02ef0>"
      ]
     },
     "metadata": {},
     "output_type": "display_data"
    }
   ],
   "source": [
    "# Father Current Job Status\n",
    "working_order = [\n",
    "    'full_time',\n",
    "    'part_time',\n",
    "    'searching',\n",
    "    'other'\n",
    "]\n",
    "sb.countplot(data = df, y = 'dad_job', color = base_color, order = working_order);\n",
    "plt.title(\"Fathers Current Job Status\");"
   ]
  },
  {
   "cell_type": "markdown",
   "metadata": {
    "slideshow": {
     "slide_type": "slide"
    }
   },
   "source": [
    "> The majority of fathers are working full time with very few are not working neither looking for a job."
   ]
  },
  {
   "cell_type": "code",
   "execution_count": 18,
   "metadata": {},
   "outputs": [
    {
     "data": {
      "text/plain": [
       "array(['201-500', '500+', '0-10', '26-100', '11-25', '101-200'], dtype=object)"
      ]
     },
     "execution_count": 18,
     "metadata": {},
     "output_type": "execute_result"
    }
   ],
   "source": [
    "df.books_count.unique()"
   ]
  },
  {
   "cell_type": "code",
   "execution_count": 19,
   "metadata": {
    "slideshow": {
     "slide_type": "subslide"
    }
   },
   "outputs": [
    {
     "data": {
      "image/png": "[encoded data removed]",
      "text/plain": [
       "<matplotlib.figure.Figure at 0x26ca4513940>"
      ]
     },
     "metadata": {},
     "output_type": "display_data"
    }
   ],
   "source": [
    "# How many books at home\n",
    "books_order = [\n",
    "    '0-10',\n",
    "    '11-25',\n",
    "    '26-100',\n",
    "    '101-200',\n",
    "    '201-500',\n",
    "    '500+'\n",
    "]\n",
    "sb.countplot(data = df, y = 'books_count', color = base_color, order = books_order);\n",
    "plt.title(\"How many books at home\");"
   ]
  },
  {
   "cell_type": "markdown",
   "metadata": {
    "slideshow": {
     "slide_type": "slide"
    }
   },
   "source": [
    "> Most students have between 26 to 100 books at home"
   ]
  },
  {
   "cell_type": "code",
   "execution_count": 20,
   "metadata": {},
   "outputs": [
    {
     "data": {
      "text/plain": [
       "array(['Sometimes', 'Often', 'Always', 'Never'], dtype=object)"
      ]
     },
     "execution_count": 20,
     "metadata": {},
     "output_type": "execute_result"
    }
   ],
   "source": [
    "df.talk_math.unique()"
   ]
  },
  {
   "cell_type": "code",
   "execution_count": 21,
   "metadata": {
    "slideshow": {
     "slide_type": "subslide"
    }
   },
   "outputs": [
    {
     "data": {
      "image/png": "[encoded data removed]",
      "text/plain": [
       "<matplotlib.figure.Figure at 0x26ca44cd6a0>"
      ]
     },
     "metadata": {},
     "output_type": "display_data"
    }
   ],
   "source": [
    "# How many students Talk about Maths with Friends\n",
    "talks_order = [\n",
    "    'Always',\n",
    "    'Often',\n",
    "    'Sometimes',\n",
    "    'Never'\n",
    "]\n",
    "sb.countplot(data = df, y = 'talk_math', color = base_color, order = talks_order);\n",
    "plt.title(\"Math Behaviour - Talk about Maths with Friends\");"
   ]
  },
  {
   "cell_type": "markdown",
   "metadata": {
    "slideshow": {
     "slide_type": "slide"
    }
   },
   "source": [
    "> Most students either talks about maths with their friends sometimes or rarly."
   ]
  },
  {
   "cell_type": "code",
   "execution_count": 22,
   "metadata": {},
   "outputs": [
    {
     "data": {
      "text/plain": [
       "array(['Disagree', 'Agree', 'Strongly disagree', 'Strongly agree'], dtype=object)"
      ]
     },
     "execution_count": 22,
     "metadata": {},
     "output_type": "execute_result"
    }
   ],
   "source": [
    "df.enjoy_math.unique()"
   ]
  },
  {
   "cell_type": "code",
   "execution_count": 23,
   "metadata": {
    "slideshow": {
     "slide_type": "subslide"
    }
   },
   "outputs": [
    {
     "data": {
      "image/png": "[encoded data removed]",
      "text/plain": [
       "<matplotlib.figure.Figure at 0x26ca45be208>"
      ]
     },
     "metadata": {},
     "output_type": "display_data"
    }
   ],
   "source": [
    "# How many students enjoy maths\n",
    "enjoy_order = [\n",
    "    'Strongly agree',\n",
    "    'Agree',\n",
    "    'Disagree',\n",
    "    'Strongly disagree'\n",
    "]\n",
    "sb.countplot(data = df, y = 'enjoy_math', color = base_color, order = enjoy_order);\n",
    "plt.title(\"Math Interest - Enjoy Maths\");"
   ]
  },
  {
   "cell_type": "markdown",
   "metadata": {
    "slideshow": {
     "slide_type": "slide"
    }
   },
   "source": [
    "> The majority of students don't enjoy math!"
   ]
  },
  {
   "cell_type": "code",
   "execution_count": 24,
   "metadata": {
    "slideshow": {
     "slide_type": "subslide"
    }
   },
   "outputs": [
    {
     "data": {
      "image/png": "[encoded data removed]",
      "text/plain": [
       "<matplotlib.figure.Figure at 0x26ca45c8860>"
      ]
     },
     "metadata": {},
     "output_type": "display_data"
    }
   ],
   "source": [
    "# How many parents like maths\n",
    "sb.countplot(data = df, y = 'prnts_math', color = base_color, order = enjoy_order);\n",
    "plt.title(\"Subjective Norms - Parents Like Mathematics\");"
   ]
  },
  {
   "cell_type": "markdown",
   "metadata": {
    "slideshow": {
     "slide_type": "slide"
    }
   },
   "source": [
    "> The majority of parents like maths!"
   ]
  },
  {
   "cell_type": "code",
   "execution_count": 25,
   "metadata": {
    "slideshow": {
     "slide_type": "subslide"
    }
   },
   "outputs": [
    {
     "data": {
      "image/png": "[encoded data removed]",
      "text/plain": [
       "<matplotlib.figure.Figure at 0x26ca3e14198>"
      ]
     },
     "metadata": {},
     "output_type": "display_data"
    }
   ],
   "source": [
    "# Study hours\n",
    "plt.hist(data = df, x = 'stdy_hrs');\n",
    "plt.title(\"Out-of-School Study Time\");\n",
    "plt.xlabel(\"Study Hours\");\n",
    "plt.ylabel(\"Count\");"
   ]
  },
  {
   "cell_type": "markdown",
   "metadata": {
    "slideshow": {
     "slide_type": "slide"
    }
   },
   "source": [
    "> The distribution of study hours are right skewed, so we need to use log transformation"
   ]
  },
  {
   "cell_type": "code",
   "execution_count": 26,
   "metadata": {
    "slideshow": {
     "slide_type": "subslide"
    }
   },
   "outputs": [
    {
     "data": {
      "image/png": "[encoded data removed]",
      "text/plain": [
       "<matplotlib.figure.Figure at 0x26ca457fb70>"
      ]
     },
     "metadata": {},
     "output_type": "display_data"
    }
   ],
   "source": [
    "def sqrt_trans(x, inverse = False):\n",
    "    \"\"\" transformation helper function \"\"\"\n",
    "    if not inverse:\n",
    "        return np.sqrt(x)\n",
    "    else:\n",
    "        return x ** 2\n",
    "\n",
    "# Bin resizing, to transform the x-axis    \n",
    "bin_edges = np.arange(0, sqrt_trans(df['stdy_hrs'].max())+1, 1)\n",
    "\n",
    "# Plot the scaled data\n",
    "plt.hist(df['stdy_hrs'].apply(sqrt_trans), bins = bin_edges)\n",
    "\n",
    "# Identify the tick-locations\n",
    "tick_locs = np.arange(0, sqrt_trans(df['stdy_hrs'].max())+1, 1)\n",
    "\n",
    "# Apply x-ticks\n",
    "plt.xticks(tick_locs, sqrt_trans(tick_locs, inverse = True).astype(int));\n",
    "plt.title(\"Out-of-School Study Time\");\n",
    "plt.xlabel(\"Study Hours\");\n",
    "plt.ylabel(\"Count\");"
   ]
  },
  {
   "cell_type": "markdown",
   "metadata": {
    "slideshow": {
     "slide_type": "slide"
    }
   },
   "source": [
    "> Most students spend between 4 to 9 hours studing out of school."
   ]
  },
  {
   "cell_type": "markdown",
   "metadata": {
    "slideshow": {
     "slide_type": "slide"
    }
   },
   "source": [
    "### Discuss the distribution(s) of your variable(s) of interest. Were there any unusual points? Did you need to perform any transformations?\n",
    "\n",
    "> The distribution of 'stdy_hrs' variable was highly skewed to the right, so I had to do custom transformation to zoom in the data.\n",
    "\n",
    "### Of the features you investigated, were there any unusual distributions? Did you perform any operations on the data to tidy, adjust, or change the form of the data? If so, why did you do this?\n",
    "\n",
    "> no."
   ]
  },
  {
   "cell_type": "markdown",
   "metadata": {
    "slideshow": {
     "slide_type": "slide"
    }
   },
   "source": [
    "## Bivariate Exploration\n",
    "\n",
    "> In this section, investigate relationships between pairs of variables in your\n",
    "data. Make sure the variables that you cover here have been introduced in some\n",
    "fashion in the previous section (univariate exploration)."
   ]
  },
  {
   "cell_type": "code",
   "execution_count": 27,
   "metadata": {
    "slideshow": {
     "slide_type": "skip"
    }
   },
   "outputs": [
    {
     "name": "stdout",
     "output_type": "stream",
     "text": [
      "<class 'pandas.core.frame.DataFrame'>\n",
      "RangeIndex: 138030 entries, 0 to 138029\n",
      "Data columns (total 8 columns):\n",
      "gender         138030 non-null object\n",
      "mom_job        138030 non-null object\n",
      "dad_job        138030 non-null object\n",
      "books_count    138030 non-null object\n",
      "enjoy_math     138030 non-null object\n",
      "prnts_math     138030 non-null object\n",
      "talk_math      138030 non-null object\n",
      "stdy_hrs       138030 non-null float64\n",
      "dtypes: float64(1), object(7)\n",
      "memory usage: 8.4+ MB\n"
     ]
    }
   ],
   "source": [
    "df.info()"
   ]
  },
  {
   "cell_type": "code",
   "execution_count": 32,
   "metadata": {
    "scrolled": true,
    "slideshow": {
     "slide_type": "subslide"
    }
   },
   "outputs": [
    {
     "data": {
      "image/png": "[encoded data removed]",
      "text/plain": [
       "<matplotlib.figure.Figure at 0x26ca3c1d358>"
      ]
     },
     "metadata": {},
     "output_type": "display_data"
    }
   ],
   "source": [
    "# # Step 3. Convert the \"mom_job\" column from a plain object type into an ordered categorical type \n",
    "# vclasses = pd.api.types.CategoricalDtype(ordered=True, categories=working_order);\n",
    "\n",
    "# # Use pandas.astype() to convert the \"mom_job\" column from a plain object type into an ordered categorical type \n",
    "# df['mom_job'] = df['mom_job'].astype(vclasses);\n",
    "\n",
    "# Step 4.  TWO PLOTS IN ONE FIGURE\n",
    "plt.figure(figsize = [16, 5]);\n",
    "\n",
    "# LEFT plot: violin plot\n",
    "plt.subplot(1, 2, 1);\n",
    "ax1 = sb.violinplot(data=df, x='mom_job', y='stdy_hrs', color=base_color, innner='quartile');\n",
    "plt.title(\"Mother Current Job Status VS. Out-of-School Study Time\");\n",
    "plt.xlabel(\"Mother Current Job Status\");\n",
    "plt.ylabel(\"Out-of-School Study Time\");\n",
    "\n",
    "# RIGHT plot: box plot\n",
    "plt.subplot(1, 2, 2);\n",
    "sb.boxplot(data=df, x='mom_job', y='stdy_hrs', color=base_color);\n",
    "plt.ylim(ax1.get_ylim()); # set y-axis limits to be same as left plot\n",
    "plt.title(\"Mother Current Job Status VS. Out-of-School Study Time\");\n",
    "plt.xlabel(\"Mother Current Job Status\");\n",
    "plt.ylabel(\"Out-of-School Study Time\");\n",
    "\n",
    "plt.subplots_adjust(hspace=0.3, wspace=0.3)\n"
   ]
  },
  {
   "cell_type": "code",
   "execution_count": 36,
   "metadata": {
    "slideshow": {
     "slide_type": "subslide"
    }
   },
   "outputs": [
    {
     "data": {
      "image/png": "[encoded data removed]",
      "text/plain": [
       "<matplotlib.figure.Figure at 0x26ca4704978>"
      ]
     },
     "metadata": {},
     "output_type": "display_data"
    }
   ],
   "source": [
    "# Plot the Seaborn's FacetGrid\n",
    "g = sb.FacetGrid(data = df, col = 'mom_job', col_wrap=4);\n",
    "g.map(plt.hist, \"stdy_hrs\");\n",
    "plt.title(\"Mothers Job Status VS. Study Time\");\n",
    "plt.xlabel(\"Mother Current Job Status\");\n",
    "plt.ylabel(\"Out-of-School Study Time\");"
   ]
  },
  {
   "cell_type": "markdown",
   "metadata": {
    "slideshow": {
     "slide_type": "slide"
    }
   },
   "source": [
    "> Interestingly, students study hours when mother is working are higher than when mother is not working!"
   ]
  },
  {
   "cell_type": "code",
   "execution_count": 37,
   "metadata": {
    "slideshow": {
     "slide_type": "subslide"
    }
   },
   "outputs": [
    {
     "data": {
      "image/png": "[encoded data removed]",
      "text/plain": [
       "<matplotlib.figure.Figure at 0x26ca5924630>"
      ]
     },
     "metadata": {},
     "output_type": "display_data"
    }
   ],
   "source": [
    "# Plot the Seaborn's FacetGrid\n",
    "# I couldn't get them all 4 side by side; as their titles tend to overlap\n",
    "g = sb.FacetGrid(data = df, col = 'dad_job', col_wrap=4);\n",
    "g.map(plt.hist, \"stdy_hrs\");\n",
    "plt.title(\"Fathers Job Status VS. Study Time\");\n",
    "plt.xlabel(\"Father Current Job Status\");\n",
    "plt.ylabel(\"Out-of-School Study Time\");"
   ]
  },
  {
   "cell_type": "markdown",
   "metadata": {
    "slideshow": {
     "slide_type": "slide"
    }
   },
   "source": [
    "> Study hours tend to decrease when father employment's status goes through:  \n",
    "working full time > part time > other > looking for job"
   ]
  },
  {
   "cell_type": "code",
   "execution_count": 39,
   "metadata": {
    "slideshow": {
     "slide_type": "subslide"
    }
   },
   "outputs": [
    {
     "data": {
      "image/png": "[encoded data removed]",
      "text/plain": [
       "<matplotlib.figure.Figure at 0x26ca4ab3d30>"
      ]
     },
     "metadata": {},
     "output_type": "display_data"
    }
   ],
   "source": [
    "# Plot the Seaborn's FacetGrid\n",
    "g = sb.FacetGrid(data = df, col = 'prnts_math', col_wrap=4);\n",
    "g.map(plt.hist, \"stdy_hrs\");\n",
    "plt.xlabel(\"Parents Like Mathematics\");\n",
    "plt.ylabel(\"Out-of-School Study Time\");\n",
    "plt.title(\"Parents Like Maths VS. Study Time\");"
   ]
  },
  {
   "cell_type": "markdown",
   "metadata": {
    "slideshow": {
     "slide_type": "slide"
    }
   },
   "source": [
    "> Parents who like maths, their children study hours are more than the others."
   ]
  },
  {
   "cell_type": "code",
   "execution_count": 40,
   "metadata": {
    "slideshow": {
     "slide_type": "subslide"
    }
   },
   "outputs": [
    {
     "data": {
      "image/png": "[encoded data removed]",
      "text/plain": [
       "<matplotlib.figure.Figure at 0x26ca4f7ff28>"
      ]
     },
     "metadata": {},
     "output_type": "display_data"
    }
   ],
   "source": [
    "# Plot the Seaborn's FacetGrid\n",
    "g = sb.FacetGrid(data = df, col = 'enjoy_math', col_wrap=4);\n",
    "g.map(plt.hist, \"stdy_hrs\");\n",
    "plt.xlabel(\"Enjoy Maths\");\n",
    "plt.ylabel(\"Out-of-School Study Time\");\n",
    "plt.title(\"Enjoy Maths VS. Study Time\");"
   ]
  },
  {
   "cell_type": "markdown",
   "metadata": {
    "slideshow": {
     "slide_type": "slide"
    }
   },
   "source": [
    "> Students who doesn't enjoy math are studying more at home than other students who enjoy math!"
   ]
  },
  {
   "cell_type": "code",
   "execution_count": 43,
   "metadata": {},
   "outputs": [
    {
     "name": "stdout",
     "output_type": "stream",
     "text": [
      "<class 'pandas.core.frame.DataFrame'>\n",
      "RangeIndex: 138030 entries, 0 to 138029\n",
      "Data columns (total 8 columns):\n",
      "gender         138030 non-null object\n",
      "mom_job        138030 non-null object\n",
      "dad_job        138030 non-null object\n",
      "books_count    138030 non-null object\n",
      "enjoy_math     138030 non-null object\n",
      "prnts_math     138030 non-null object\n",
      "talk_math      138030 non-null object\n",
      "stdy_hrs       138030 non-null float64\n",
      "dtypes: float64(1), object(7)\n",
      "memory usage: 8.4+ MB\n"
     ]
    }
   ],
   "source": [
    "df.info()"
   ]
  },
  {
   "cell_type": "code",
   "execution_count": 51,
   "metadata": {
    "slideshow": {
     "slide_type": "subslide"
    }
   },
   "outputs": [
    {
     "ename": "TypeError",
     "evalue": "'<' not supported between instances of 'str' and 'float'",
     "output_type": "error",
     "traceback": [
      "\u001b[1;31m---------------------------------------------------------------------------\u001b[0m",
      "\u001b[1;31mTypeError\u001b[0m                                 Traceback (most recent call last)",
      "\u001b[1;32m<ipython-input-51-a5ee2aea9915>\u001b[0m in \u001b[0;36m<module>\u001b[1;34m()\u001b[0m\n\u001b[0;32m      1\u001b[0m \u001b[1;31m# Plot the Seaborn's FacetGrid\u001b[0m\u001b[1;33m\u001b[0m\u001b[1;33m\u001b[0m\u001b[0m\n\u001b[0;32m      2\u001b[0m \u001b[0mg\u001b[0m \u001b[1;33m=\u001b[0m \u001b[0msb\u001b[0m\u001b[1;33m.\u001b[0m\u001b[0mFacetGrid\u001b[0m\u001b[1;33m(\u001b[0m\u001b[0mdata\u001b[0m \u001b[1;33m=\u001b[0m \u001b[0mdf\u001b[0m\u001b[1;33m,\u001b[0m \u001b[0mcol\u001b[0m \u001b[1;33m=\u001b[0m \u001b[1;34m'prnts_math'\u001b[0m\u001b[1;33m,\u001b[0m \u001b[0mcol_wrap\u001b[0m\u001b[1;33m=\u001b[0m\u001b[1;36m4\u001b[0m\u001b[1;33m)\u001b[0m\u001b[1;33m;\u001b[0m\u001b[1;33m\u001b[0m\u001b[0m\n\u001b[1;32m----> 3\u001b[1;33m \u001b[0mg\u001b[0m\u001b[1;33m.\u001b[0m\u001b[0mmap\u001b[0m\u001b[1;33m(\u001b[0m\u001b[0mplt\u001b[0m\u001b[1;33m.\u001b[0m\u001b[0mhist\u001b[0m\u001b[1;33m,\u001b[0m \u001b[1;34m\"enjoy_math\"\u001b[0m\u001b[1;33m)\u001b[0m\u001b[1;33m;\u001b[0m\u001b[1;33m\u001b[0m\u001b[0m\n\u001b[0m\u001b[0;32m      4\u001b[0m \u001b[0mplt\u001b[0m\u001b[1;33m.\u001b[0m\u001b[0mtitle\u001b[0m\u001b[1;33m(\u001b[0m\u001b[1;34m\"Parents Like Maths VS. Enjoy Maths\"\u001b[0m\u001b[1;33m)\u001b[0m\u001b[1;33m;\u001b[0m\u001b[1;33m\u001b[0m\u001b[0m\n",
      "\u001b[1;32mD:\\Anaconda\\lib\\site-packages\\seaborn\\axisgrid.py\u001b[0m in \u001b[0;36mmap\u001b[1;34m(self, func, *args, **kwargs)\u001b[0m\n\u001b[0;32m    729\u001b[0m \u001b[1;33m\u001b[0m\u001b[0m\n\u001b[0;32m    730\u001b[0m             \u001b[1;31m# Draw the plot\u001b[0m\u001b[1;33m\u001b[0m\u001b[1;33m\u001b[0m\u001b[0m\n\u001b[1;32m--> 731\u001b[1;33m             \u001b[0mself\u001b[0m\u001b[1;33m.\u001b[0m\u001b[0m_facet_plot\u001b[0m\u001b[1;33m(\u001b[0m\u001b[0mfunc\u001b[0m\u001b[1;33m,\u001b[0m \u001b[0max\u001b[0m\u001b[1;33m,\u001b[0m \u001b[0mplot_args\u001b[0m\u001b[1;33m,\u001b[0m \u001b[0mkwargs\u001b[0m\u001b[1;33m)\u001b[0m\u001b[1;33m\u001b[0m\u001b[0m\n\u001b[0m\u001b[0;32m    732\u001b[0m \u001b[1;33m\u001b[0m\u001b[0m\n\u001b[0;32m    733\u001b[0m         \u001b[1;31m# Finalize the annotations and layout\u001b[0m\u001b[1;33m\u001b[0m\u001b[1;33m\u001b[0m\u001b[0m\n",
      "\u001b[1;32mD:\\Anaconda\\lib\\site-packages\\seaborn\\axisgrid.py\u001b[0m in \u001b[0;36m_facet_plot\u001b[1;34m(self, func, ax, plot_args, plot_kwargs)\u001b[0m\n\u001b[0;32m    813\u001b[0m \u001b[1;33m\u001b[0m\u001b[0m\n\u001b[0;32m    814\u001b[0m         \u001b[1;31m# Draw the plot\u001b[0m\u001b[1;33m\u001b[0m\u001b[1;33m\u001b[0m\u001b[0m\n\u001b[1;32m--> 815\u001b[1;33m         \u001b[0mfunc\u001b[0m\u001b[1;33m(\u001b[0m\u001b[1;33m*\u001b[0m\u001b[0mplot_args\u001b[0m\u001b[1;33m,\u001b[0m \u001b[1;33m**\u001b[0m\u001b[0mplot_kwargs\u001b[0m\u001b[1;33m)\u001b[0m\u001b[1;33m\u001b[0m\u001b[0m\n\u001b[0m\u001b[0;32m    816\u001b[0m \u001b[1;33m\u001b[0m\u001b[0m\n\u001b[0;32m    817\u001b[0m         \u001b[1;31m# Sort out the supporting information\u001b[0m\u001b[1;33m\u001b[0m\u001b[1;33m\u001b[0m\u001b[0m\n",
      "\u001b[1;32mD:\\Anaconda\\lib\\site-packages\\matplotlib\\pyplot.py\u001b[0m in \u001b[0;36mhist\u001b[1;34m(x, bins, range, normed, weights, cumulative, bottom, histtype, align, orientation, rwidth, log, color, label, stacked, hold, data, **kwargs)\u001b[0m\n\u001b[0;32m   3079\u001b[0m                       \u001b[0mhisttype\u001b[0m\u001b[1;33m=\u001b[0m\u001b[0mhisttype\u001b[0m\u001b[1;33m,\u001b[0m \u001b[0malign\u001b[0m\u001b[1;33m=\u001b[0m\u001b[0malign\u001b[0m\u001b[1;33m,\u001b[0m \u001b[0morientation\u001b[0m\u001b[1;33m=\u001b[0m\u001b[0morientation\u001b[0m\u001b[1;33m,\u001b[0m\u001b[1;33m\u001b[0m\u001b[0m\n\u001b[0;32m   3080\u001b[0m                       \u001b[0mrwidth\u001b[0m\u001b[1;33m=\u001b[0m\u001b[0mrwidth\u001b[0m\u001b[1;33m,\u001b[0m \u001b[0mlog\u001b[0m\u001b[1;33m=\u001b[0m\u001b[0mlog\u001b[0m\u001b[1;33m,\u001b[0m \u001b[0mcolor\u001b[0m\u001b[1;33m=\u001b[0m\u001b[0mcolor\u001b[0m\u001b[1;33m,\u001b[0m \u001b[0mlabel\u001b[0m\u001b[1;33m=\u001b[0m\u001b[0mlabel\u001b[0m\u001b[1;33m,\u001b[0m\u001b[1;33m\u001b[0m\u001b[0m\n\u001b[1;32m-> 3081\u001b[1;33m                       stacked=stacked, data=data, **kwargs)\n\u001b[0m\u001b[0;32m   3082\u001b[0m     \u001b[1;32mfinally\u001b[0m\u001b[1;33m:\u001b[0m\u001b[1;33m\u001b[0m\u001b[0m\n\u001b[0;32m   3083\u001b[0m         \u001b[0max\u001b[0m\u001b[1;33m.\u001b[0m\u001b[0m_hold\u001b[0m \u001b[1;33m=\u001b[0m \u001b[0mwashold\u001b[0m\u001b[1;33m\u001b[0m\u001b[0m\n",
      "\u001b[1;32mD:\\Anaconda\\lib\\site-packages\\matplotlib\\__init__.py\u001b[0m in \u001b[0;36minner\u001b[1;34m(ax, *args, **kwargs)\u001b[0m\n\u001b[0;32m   1896\u001b[0m                     warnings.warn(msg % (label_namer, func.__name__),\n\u001b[0;32m   1897\u001b[0m                                   RuntimeWarning, stacklevel=2)\n\u001b[1;32m-> 1898\u001b[1;33m             \u001b[1;32mreturn\u001b[0m \u001b[0mfunc\u001b[0m\u001b[1;33m(\u001b[0m\u001b[0max\u001b[0m\u001b[1;33m,\u001b[0m \u001b[1;33m*\u001b[0m\u001b[0margs\u001b[0m\u001b[1;33m,\u001b[0m \u001b[1;33m**\u001b[0m\u001b[0mkwargs\u001b[0m\u001b[1;33m)\u001b[0m\u001b[1;33m\u001b[0m\u001b[0m\n\u001b[0m\u001b[0;32m   1899\u001b[0m         \u001b[0mpre_doc\u001b[0m \u001b[1;33m=\u001b[0m \u001b[0minner\u001b[0m\u001b[1;33m.\u001b[0m\u001b[0m__doc__\u001b[0m\u001b[1;33m\u001b[0m\u001b[0m\n\u001b[0;32m   1900\u001b[0m         \u001b[1;32mif\u001b[0m \u001b[0mpre_doc\u001b[0m \u001b[1;32mis\u001b[0m \u001b[1;32mNone\u001b[0m\u001b[1;33m:\u001b[0m\u001b[1;33m\u001b[0m\u001b[0m\n",
      "\u001b[1;32mD:\\Anaconda\\lib\\site-packages\\matplotlib\\axes\\_axes.py\u001b[0m in \u001b[0;36mhist\u001b[1;34m(***failed resolving arguments***)\u001b[0m\n\u001b[0;32m   6179\u001b[0m             \u001b[1;32mfor\u001b[0m \u001b[0mxi\u001b[0m \u001b[1;32min\u001b[0m \u001b[0mx\u001b[0m\u001b[1;33m:\u001b[0m\u001b[1;33m\u001b[0m\u001b[0m\n\u001b[0;32m   6180\u001b[0m                 \u001b[1;32mif\u001b[0m \u001b[0mlen\u001b[0m\u001b[1;33m(\u001b[0m\u001b[0mxi\u001b[0m\u001b[1;33m)\u001b[0m \u001b[1;33m>\u001b[0m \u001b[1;36m0\u001b[0m\u001b[1;33m:\u001b[0m\u001b[1;33m\u001b[0m\u001b[0m\n\u001b[1;32m-> 6181\u001b[1;33m                     \u001b[0mxmin\u001b[0m \u001b[1;33m=\u001b[0m \u001b[0mmin\u001b[0m\u001b[1;33m(\u001b[0m\u001b[0mxmin\u001b[0m\u001b[1;33m,\u001b[0m \u001b[0mxi\u001b[0m\u001b[1;33m.\u001b[0m\u001b[0mmin\u001b[0m\u001b[1;33m(\u001b[0m\u001b[1;33m)\u001b[0m\u001b[1;33m)\u001b[0m\u001b[1;33m\u001b[0m\u001b[0m\n\u001b[0m\u001b[0;32m   6182\u001b[0m                     \u001b[0mxmax\u001b[0m \u001b[1;33m=\u001b[0m \u001b[0mmax\u001b[0m\u001b[1;33m(\u001b[0m\u001b[0mxmax\u001b[0m\u001b[1;33m,\u001b[0m \u001b[0mxi\u001b[0m\u001b[1;33m.\u001b[0m\u001b[0mmax\u001b[0m\u001b[1;33m(\u001b[0m\u001b[1;33m)\u001b[0m\u001b[1;33m)\u001b[0m\u001b[1;33m\u001b[0m\u001b[0m\n\u001b[0;32m   6183\u001b[0m             \u001b[0mbin_range\u001b[0m \u001b[1;33m=\u001b[0m \u001b[1;33m(\u001b[0m\u001b[0mxmin\u001b[0m\u001b[1;33m,\u001b[0m \u001b[0mxmax\u001b[0m\u001b[1;33m)\u001b[0m\u001b[1;33m\u001b[0m\u001b[0m\n",
      "\u001b[1;31mTypeError\u001b[0m: '<' not supported between instances of 'str' and 'float'"
     ]
    },
    {
     "data": {
      "image/png": "[encoded data removed]",
      "text/plain": [
       "<matplotlib.figure.Figure at 0x26ca50817b8>"
      ]
     },
     "metadata": {},
     "output_type": "display_data"
    }
   ],
   "source": [
    "# Plot the Seaborn's FacetGrid\n",
    "g = sb.FacetGrid(data = df, col = 'prnts_math', col_wrap=4);\n",
    "g.map(plt.hist, \"enjoy_math\");\n",
    "plt.title(\"Parents Like Maths VS. Enjoy Maths\");"
   ]
  },
  {
   "cell_type": "markdown",
   "metadata": {
    "slideshow": {
     "slide_type": "slide"
    }
   },
   "source": [
    "> WOW!\n",
    "> * Parents who agree to like maths, their children agree to enjoy maths\n",
    "> * Parents who disagree to like maths, their children disagree to enjoy maths\n",
    "> * Parents who strongly agree to like maths, their children strongly agree to enjoy maths\n",
    "> * Parents who strongly disagree to like maths, their children strongly disagree to enjoy maths"
   ]
  },
  {
   "cell_type": "markdown",
   "metadata": {
    "slideshow": {
     "slide_type": "slide"
    }
   },
   "source": [
    "### Talk about some of the relationships you observed in this part of the investigation. How did the feature(s) of interest vary with other features in the dataset?\n",
    "\n",
    "> * Students who doesn't enjoy math are studying more at home than other students who enjoy math!\n",
    "> * Parents who like maths, their children study hours are more than the others.\n",
    "> * Study hours tend to decrease when father employment's status goes through:\n",
    "working full time > part time > other > looking for job\n",
    "> * students study hours when mother is working are higher than when mother is not working!\n",
    "\n",
    "### Did you observe any interesting relationships between the other features (not the main feature(s) of interest)?\n",
    "\n",
    "> * Parents who agree to like maths, their children agree to enjoy maths\n",
    "> * Parents who disagree to like maths, their children disagree to enjoy maths\n",
    "> * Parents who strongly agree to like maths, their children strongly agree to enjoy maths\n",
    "> * Parents who strongly disagree to like maths, their children strongly disagree to enjoy maths"
   ]
  },
  {
   "cell_type": "markdown",
   "metadata": {
    "slideshow": {
     "slide_type": "slide"
    }
   },
   "source": [
    "## Multivariate Exploration\n",
    "\n",
    "> Create plots of three or more variables to investigate your data even\n",
    "further. Make sure that your investigations are justified, and follow from\n",
    "your work in the previous sections."
   ]
  },
  {
   "cell_type": "code",
   "execution_count": null,
   "metadata": {
    "collapsed": true,
    "slideshow": {
     "slide_type": "skip"
    }
   },
   "outputs": [],
   "source": [
    "df.info()"
   ]
  },
  {
   "cell_type": "code",
   "execution_count": 52,
   "metadata": {
    "slideshow": {
     "slide_type": "subslide"
    }
   },
   "outputs": [
    {
     "ename": "TypeError",
     "evalue": "__init__() got an unexpected keyword argument 'height'",
     "output_type": "error",
     "traceback": [
      "\u001b[1;31m---------------------------------------------------------------------------\u001b[0m",
      "\u001b[1;31mTypeError\u001b[0m                                 Traceback (most recent call last)",
      "\u001b[1;32m<ipython-input-52-72b490232f14>\u001b[0m in \u001b[0;36m<module>\u001b[1;34m()\u001b[0m\n\u001b[1;32m----> 1\u001b[1;33m \u001b[0mg\u001b[0m \u001b[1;33m=\u001b[0m \u001b[0msb\u001b[0m\u001b[1;33m.\u001b[0m\u001b[0mFacetGrid\u001b[0m\u001b[1;33m(\u001b[0m\u001b[0mdata\u001b[0m \u001b[1;33m=\u001b[0m \u001b[0mdf\u001b[0m\u001b[1;33m,\u001b[0m \u001b[0mcol\u001b[0m \u001b[1;33m=\u001b[0m \u001b[1;34m'prnts_math'\u001b[0m\u001b[1;33m,\u001b[0m \u001b[0mheight\u001b[0m \u001b[1;33m=\u001b[0m \u001b[1;36m4\u001b[0m\u001b[1;33m)\u001b[0m\u001b[1;33m;\u001b[0m\u001b[1;33m\u001b[0m\u001b[0m\n\u001b[0m\u001b[0;32m      2\u001b[0m \u001b[0mg\u001b[0m\u001b[1;33m.\u001b[0m\u001b[0mmap\u001b[0m\u001b[1;33m(\u001b[0m\u001b[0msb\u001b[0m\u001b[1;33m.\u001b[0m\u001b[0mboxplot\u001b[0m\u001b[1;33m,\u001b[0m \u001b[1;34m'gender'\u001b[0m\u001b[1;33m,\u001b[0m \u001b[1;34m'stdy_hrs'\u001b[0m\u001b[1;33m)\u001b[0m\u001b[1;33m;\u001b[0m\u001b[1;33m\u001b[0m\u001b[0m\n\u001b[0;32m      3\u001b[0m \u001b[0mplt\u001b[0m\u001b[1;33m.\u001b[0m\u001b[0mtitle\u001b[0m\u001b[1;33m(\u001b[0m\u001b[1;34m\"Gender VS. Enjoy Maths VS. Parents Like Maths\"\u001b[0m\u001b[1;33m)\u001b[0m\u001b[1;33m;\u001b[0m\u001b[1;33m\u001b[0m\u001b[0m\n",
      "\u001b[1;31mTypeError\u001b[0m: __init__() got an unexpected keyword argument 'height'"
     ]
    }
   ],
   "source": [
    "g = sb.FacetGrid(data = df, col = 'prnts_math', height = 4);\n",
    "g.map(sb.boxplot, 'gender', 'stdy_hrs');\n",
    "plt.title(\"Gender VS. Enjoy Maths VS. Parents Like Maths\");"
   ]
  },
  {
   "cell_type": "markdown",
   "metadata": {
    "slideshow": {
     "slide_type": "slide"
    }
   },
   "source": [
    "### Talk about some of the relationships you observed in this part of the investigation. Were there features that strengthened each other in terms of looking at your feature(s) of interest?\n",
    "\n",
    "> I cannot really observe a relationship between gender, prnts_math, and out_study_hours variables.\n",
    "\n",
    "### Were there any interesting or surprising interactions between features?\n",
    "\n",
    "> No, I cannot observe any."
   ]
  },
  {
   "cell_type": "markdown",
   "metadata": {
    "slideshow": {
     "slide_type": "skip"
    }
   },
   "source": [
    "> At the end of your report, make sure that you export the notebook as an\n",
    "html file from the `File > Download as... > HTML` menu. Make sure you keep\n",
    "track of where the exported file goes, so you can put it in the same folder\n",
    "as this notebook for project submission. Also, make sure you remove all of\n",
    "the quote-formatted guide notes like this one before you finish your report!"
   ]
  }
 ],
 "metadata": {
  "kernelspec": {
   "display_name": "Python 3",
   "language": "python",
   "name": "python3"
  },
  "language_info": {
   "codemirror_mode": {
    "name": "ipython",
    "version": 3
   },
   "file_extension": ".py",
   "mimetype": "text/x-python",
   "name": "python",
   "nbconvert_exporter": "python",
   "pygments_lexer": "ipython3",
   "version": "3.6.2"
  }
 },
 "nbformat": 4,
 "nbformat_minor": 2
}
